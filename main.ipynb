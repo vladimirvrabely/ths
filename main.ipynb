{
 "cells": [
  {
   "cell_type": "code",
   "execution_count": 1,
   "id": "14f7c241",
   "metadata": {},
   "outputs": [],
   "source": [
    "import polars as pl\n",
    "import plotly.express as px\n",
    "import plotly.io as pio\n"
   ]
  },
  {
   "cell_type": "code",
   "execution_count": null,
   "id": "ba40596f",
   "metadata": {},
   "outputs": [
    {
     "data": {
      "text/html": [
       "<div><style>\n",
       ".dataframe > thead > tr,\n",
       ".dataframe > tbody > tr {\n",
       "  text-align: right;\n",
       "  white-space: pre-wrap;\n",
       "}\n",
       "</style>\n",
       "<small>shape: (6_971, 3)</small><table border=\"1\" class=\"dataframe\"><thead><tr><th>at</th><th>temp</th><th>humi</th></tr><tr><td>datetime[ns, UTC]</td><td>f64</td><td>f64</td></tr></thead><tbody><tr><td>2025-06-29 20:19:05.027297157 UTC</td><td>24.4</td><td>65.2</td></tr><tr><td>2025-06-29 20:19:10.026316108 UTC</td><td>22.1</td><td>71.2</td></tr><tr><td>2025-06-29 20:19:15.036346784 UTC</td><td>22.1</td><td>71.4</td></tr><tr><td>2025-06-29 20:19:20.026526593 UTC</td><td>22.1</td><td>71.5</td></tr><tr><td>2025-06-29 20:19:25.026632507 UTC</td><td>22.2</td><td>71.3</td></tr><tr><td>&hellip;</td><td>&hellip;</td><td>&hellip;</td></tr><tr><td>2025-06-30 05:59:40.028145007 UTC</td><td>21.9</td><td>74.8</td></tr><tr><td>2025-06-30 05:59:45.028256273 UTC</td><td>21.9</td><td>74.8</td></tr><tr><td>2025-06-30 05:59:50.028348326 UTC</td><td>21.8</td><td>74.6</td></tr><tr><td>2025-06-30 05:59:55.028567832 UTC</td><td>21.9</td><td>74.4</td></tr><tr><td>2025-06-30 06:00:00.027297142 UTC</td><td>21.9</td><td>74.2</td></tr></tbody></table></div>"
      ],
      "text/plain": [
       "shape: (6_971, 3)\n",
       "┌─────────────────────────────────┬──────┬──────┐\n",
       "│ at                              ┆ temp ┆ humi │\n",
       "│ ---                             ┆ ---  ┆ ---  │\n",
       "│ datetime[ns, UTC]               ┆ f64  ┆ f64  │\n",
       "╞═════════════════════════════════╪══════╪══════╡\n",
       "│ 2025-06-29 20:19:05.027297157 … ┆ 24.4 ┆ 65.2 │\n",
       "│ 2025-06-29 20:19:10.026316108 … ┆ 22.1 ┆ 71.2 │\n",
       "│ 2025-06-29 20:19:15.036346784 … ┆ 22.1 ┆ 71.4 │\n",
       "│ 2025-06-29 20:19:20.026526593 … ┆ 22.1 ┆ 71.5 │\n",
       "│ 2025-06-29 20:19:25.026632507 … ┆ 22.2 ┆ 71.3 │\n",
       "│ …                               ┆ …    ┆ …    │\n",
       "│ 2025-06-30 05:59:40.028145007 … ┆ 21.9 ┆ 74.8 │\n",
       "│ 2025-06-30 05:59:45.028256273 … ┆ 21.9 ┆ 74.8 │\n",
       "│ 2025-06-30 05:59:50.028348326 … ┆ 21.8 ┆ 74.6 │\n",
       "│ 2025-06-30 05:59:55.028567832 … ┆ 21.9 ┆ 74.4 │\n",
       "│ 2025-06-30 06:00:00.027297142 … ┆ 21.9 ┆ 74.2 │\n",
       "└─────────────────────────────────┴──────┴──────┘"
      ]
     },
     "execution_count": 15,
     "metadata": {},
     "output_type": "execute_result"
    }
   ],
   "source": [
    "data = (\n",
    "    pl.read_csv(\"measurement.csv\", has_header=False, new_columns=[\"at\", \"temp\", \"humi\"])\n",
    "    .with_columns(pl.col(\"at\").str.to_datetime(\"%F %T%.9f %Z\", time_zone=\"UTC\"))\n",
    ")"
   ]
  }
 ],
 "metadata": {
  "kernelspec": {
   "display_name": ".venv",
   "language": "python",
   "name": "python3"
  },
  "language_info": {
   "codemirror_mode": {
    "name": "ipython",
    "version": 3
   },
   "file_extension": ".py",
   "mimetype": "text/x-python",
   "name": "python",
   "nbconvert_exporter": "python",
   "pygments_lexer": "ipython3",
   "version": "3.12.9"
  }
 },
 "nbformat": 4,
 "nbformat_minor": 5
}
