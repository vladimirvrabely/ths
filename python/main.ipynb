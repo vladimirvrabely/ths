{
 "cells": [
  {
   "cell_type": "markdown",
   "id": "96b6cfa5",
   "metadata": {},
   "source": [
    "# Measurements"
   ]
  },
  {
   "cell_type": "code",
   "execution_count": null,
   "id": "14f7c241",
   "metadata": {},
   "outputs": [],
   "source": [
    "import polars as pl\n",
    "from plotly.subplots import make_subplots\n",
    "import plotly.io as pio\n",
    "import plotly.graph_objects as go"
   ]
  },
  {
   "cell_type": "code",
   "execution_count": null,
   "id": "d238bd10",
   "metadata": {},
   "outputs": [],
   "source": [
    "pio.templates.default = \"simple_white\""
   ]
  },
  {
   "cell_type": "code",
   "execution_count": null,
   "id": "ba40596f",
   "metadata": {},
   "outputs": [],
   "source": [
    "# data = (\n",
    "#     pl.read_csv(\"measurement.csv\", has_header=False, new_columns=[\"at\", \"temperature\", \"humidity\"])\n",
    "#     .with_columns(pl.col(\"at\").str.to_datetime(\"%F %T%.9f %Z\", time_zone=\"UTC\"))\n",
    "# )\n",
    "\n",
    "data = (\n",
    "    pl.read_database_uri(\"select at, temperature, humidity from measurement\", \"sqlite://measurement.sqlite\")\n",
    "    .with_columns(pl.col(\"at\").cast(pl.Datetime(\"ms\", \"UTC\")))\n",
    ")\n",
    "data"
   ]
  },
  {
   "cell_type": "code",
   "execution_count": null,
   "id": "f8d78fd9",
   "metadata": {},
   "outputs": [],
   "source": [
    "fig = make_subplots(rows=2, subplot_titles=[\"Temperature\", \"Humidity\"], shared_xaxes=True)\n",
    "\n",
    "for i, col in enumerate([\"temperature\", \"humidity\"]):\n",
    "    fig.add_trace(go.Scatter(x=data[\"at\"], y=data[col], name=col), row=i+1, col=1)\n",
    "\n",
    "fig.update_layout(title=\"Sensor Measurements\", height=500)\n",
    "fig"
   ]
  }
 ],
 "metadata": {
  "kernelspec": {
   "display_name": ".venv",
   "language": "python",
   "name": "python3"
  },
  "language_info": {
   "codemirror_mode": {
    "name": "ipython",
    "version": 3
   },
   "file_extension": ".py",
   "mimetype": "text/x-python",
   "name": "python",
   "nbconvert_exporter": "python",
   "pygments_lexer": "ipython3",
   "version": "3.12.9"
  }
 },
 "nbformat": 4,
 "nbformat_minor": 5
}
